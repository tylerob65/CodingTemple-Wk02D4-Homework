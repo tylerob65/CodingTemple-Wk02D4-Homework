{
 "cells": [
  {
   "attachments": {},
   "cell_type": "markdown",
   "metadata": {},
   "source": [
    "# Wk02D4 Homework"
   ]
  },
  {
   "cell_type": "markdown",
   "metadata": {},
   "source": [
    "# Exercises"
   ]
  },
  {
   "cell_type": "markdown",
   "metadata": {},
   "source": [
    "### Exercise 1 - Turn the shopping cart program from yesterday into an object-oriented program\n",
    "\n",
    "The comments in the cell below are there as a guide for thinking about the problem. However, if you feel a different way is best for you and your own thought process, please do what feels best for you by all means."
   ]
  },
  {
   "cell_type": "code",
   "execution_count": 1,
   "metadata": {},
   "outputs": [
    {
     "name": "stdout",
     "output_type": "stream",
     "text": [
      "..................\n",
      "Welcome to TyMart!\n",
      "..................\n",
      "\n",
      "Here is the list of valid methods\n",
      "\n",
      ".show()\n",
      "Shows you your current shopping cart\n",
      "\n",
      ".add(item:str,quantity:int)\n",
      "Add item(s) to cart\n",
      "\n",
      ".subtract(item:str,quantity:int)\n",
      "Subtract item(s) from cart\n",
      "\n",
      ".clear()\n",
      "Empties cart\n",
      "\n",
      ".commands()\n",
      " Lists the methods you can run\n",
      "\n"
     ]
    }
   ],
   "source": [
    "from tymart_class import Cart\n",
    "\n",
    "a = Cart()"
   ]
  },
  {
   "cell_type": "markdown",
   "metadata": {},
   "source": [
    "### Exercise 2 - Write a Python class which has two methods get_String and print_String. get_String accept a string from the user and print_String print the string in upper case"
   ]
  },
  {
   "cell_type": "code",
   "execution_count": 2,
   "metadata": {},
   "outputs": [],
   "source": [
    "class Tystring():\n",
    "    def __init__(self,string:str=\"\"):\n",
    "        self.string = string\n",
    "\n",
    "    def get_String(self,string:str):\n",
    "        if not string:\n",
    "            print(\"No String Was Given\")\n",
    "        if not isinstance(string,str):\n",
    "            print(\"input was not of type 'str'\")\n",
    "        self.string = string\n",
    "    \n",
    "    def print_String(self):\n",
    "        print(self.string)"
   ]
  },
  {
   "cell_type": "code",
   "execution_count": null,
   "metadata": {},
   "outputs": [],
   "source": []
  }
 ],
 "metadata": {
  "kernelspec": {
   "display_name": "Python 3 (ipykernel)",
   "language": "python",
   "name": "python3"
  },
  "language_info": {
   "codemirror_mode": {
    "name": "ipython",
    "version": 3
   },
   "file_extension": ".py",
   "mimetype": "text/x-python",
   "name": "python",
   "nbconvert_exporter": "python",
   "pygments_lexer": "ipython3",
   "version": "3.10.10"
  }
 },
 "nbformat": 4,
 "nbformat_minor": 2
}
